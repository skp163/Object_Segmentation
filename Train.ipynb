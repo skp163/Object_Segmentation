{
 "cells": [
  {
   "cell_type": "code",
   "execution_count": 1,
   "metadata": {},
   "outputs": [],
   "source": [
    "import numpy as np"
   ]
  },
  {
   "cell_type": "code",
   "execution_count": 10,
   "metadata": {},
   "outputs": [
    {
     "name": "stdout",
     "output_type": "stream",
     "text": [
      "(3680, 128, 128, 3)\n",
      "(3680, 128, 128)\n"
     ]
    }
   ],
   "source": [
    "# load the train data :\n",
    "\n",
    "allImagesNP = np.load(\"/Users/sunilkumarpradhan/Personal_Projects/Github_Profile/Object_Segmetation_Project/Object_Segmentation_data/Unet-Animals-train-images.npy\")\n",
    "maskImagesNP = np.load(\"/Users/sunilkumarpradhan/Personal_Projects/Github_Profile/Object_Segmetation_Project/Object_Segmentation_data/Unet-Animals-train-mask.npy\")\n",
    "\n",
    "print(allImagesNP.shape)\n",
    "print(maskImagesNP.shape)\n",
    "\n",
    "Weight = 128\n",
    "Width = 128\n",
    "numOfCategories = 3\n"
   ]
  },
  {
   "cell_type": "code",
   "execution_count": 12,
   "metadata": {},
   "outputs": [],
   "source": [
    "# change the values of the mask from integer to categorical\n",
    "from keras import utils\n",
    "#from keras.utils import np_utils"
   ]
  },
  {
   "cell_type": "code",
   "execution_count": 14,
   "metadata": {},
   "outputs": [
    {
     "name": "stdout",
     "output_type": "stream",
     "text": [
      "[[1 1 1 ... 1 1 1]\n",
      " [1 1 1 ... 1 1 1]\n",
      " [1 1 1 ... 1 1 1]\n",
      " ...\n",
      " [1 1 1 ... 1 1 1]\n",
      " [1 1 1 ... 1 1 1]\n",
      " [1 1 1 ... 1 1 1]]\n",
      "[[[0. 1. 0.]\n",
      "  [0. 1. 0.]\n",
      "  [0. 1. 0.]\n",
      "  ...\n",
      "  [0. 1. 0.]\n",
      "  [0. 1. 0.]\n",
      "  [0. 1. 0.]]\n",
      "\n",
      " [[0. 1. 0.]\n",
      "  [0. 1. 0.]\n",
      "  [0. 1. 0.]\n",
      "  ...\n",
      "  [0. 1. 0.]\n",
      "  [0. 1. 0.]\n",
      "  [0. 1. 0.]]\n",
      "\n",
      " [[0. 1. 0.]\n",
      "  [0. 1. 0.]\n",
      "  [0. 1. 0.]\n",
      "  ...\n",
      "  [0. 1. 0.]\n",
      "  [0. 1. 0.]\n",
      "  [0. 1. 0.]]\n",
      "\n",
      " ...\n",
      "\n",
      " [[0. 1. 0.]\n",
      "  [0. 1. 0.]\n",
      "  [0. 1. 0.]\n",
      "  ...\n",
      "  [0. 1. 0.]\n",
      "  [0. 1. 0.]\n",
      "  [0. 1. 0.]]\n",
      "\n",
      " [[0. 1. 0.]\n",
      "  [0. 1. 0.]\n",
      "  [0. 1. 0.]\n",
      "  ...\n",
      "  [0. 1. 0.]\n",
      "  [0. 1. 0.]\n",
      "  [0. 1. 0.]]\n",
      "\n",
      " [[0. 1. 0.]\n",
      "  [0. 1. 0.]\n",
      "  [0. 1. 0.]\n",
      "  ...\n",
      "  [0. 1. 0.]\n",
      "  [0. 1. 0.]\n",
      "  [0. 1. 0.]]]\n"
     ]
    }
   ],
   "source": [
    "# update to  categorical only for the first(!!!!) mask\n",
    "# lets display the result before and after\n",
    "\n",
    "test = maskImagesNP[0]\n",
    "test = test -1 # convert the values from 1-3 to 0-2\n",
    "test2 = utils.to_categorical(test, num_classes=numOfCategories) # 3\n",
    "\n",
    "print(test)\n",
    "print(test2)"
   ]
  },
  {
   "cell_type": "code",
   "execution_count": 16,
   "metadata": {},
   "outputs": [
    {
     "name": "stdout",
     "output_type": "stream",
     "text": [
      "print the type after the convert :\n",
      "float64\n",
      "int64\n"
     ]
    }
   ],
   "source": [
    "# run the process for the all mask Numpy array\n",
    "maskImagesNP = maskImagesNP - 1\n",
    "maskForTheModel = utils.to_categorical(maskImagesNP , num_classes=numOfCategories)\n",
    "\n",
    "print(\"print the type after the convert :\")\n",
    "print(maskForTheModel.dtype)\n",
    "maskForTheModel = maskForTheModel.astype(int) # convert from float to integer\n",
    "print(maskForTheModel.dtype)\n"
   ]
  },
  {
   "cell_type": "code",
   "execution_count": 18,
   "metadata": {},
   "outputs": [
    {
     "name": "stdout",
     "output_type": "stream",
     "text": [
      "X_train , X_val , y_train , y_val --------->>>>  shapes :\n",
      "(3312, 128, 128, 3)\n",
      "(3312, 128, 128, 3)\n",
      "(368, 128, 128, 3)\n",
      "(368, 128, 128, 3)\n"
     ]
    }
   ],
   "source": [
    "# split train and test\n",
    "from sklearn.model_selection import train_test_split\n",
    "\n",
    "X_train, X_val , y_train , y_val = train_test_split(allImagesNP, maskForTheModel, test_size=0.1 , random_state=42)\n",
    "print(\"X_train , X_val , y_train , y_val --------->>>>  shapes :\")\n",
    "\n",
    "print(X_train.shape)\n",
    "print(y_train.shape)\n",
    "\n",
    "print(X_val.shape)\n",
    "print(y_val.shape)"
   ]
  },
  {
   "cell_type": "code",
   "execution_count": 20,
   "metadata": {},
   "outputs": [
    {
     "ename": "ModuleNotFoundError",
     "evalue": "No module named 'Step02UnetModel'",
     "output_type": "error",
     "traceback": [
      "\u001b[0;31m---------------------------------------------------------------------------\u001b[0m",
      "\u001b[0;31mModuleNotFoundError\u001b[0m                       Traceback (most recent call last)",
      "Cell \u001b[0;32mIn[20], line 4\u001b[0m\n\u001b[1;32m      1\u001b[0m \u001b[38;5;66;03m# build the model\u001b[39;00m\n\u001b[1;32m      3\u001b[0m \u001b[38;5;28;01mimport\u001b[39;00m \u001b[38;5;21;01mtensorflow\u001b[39;00m \u001b[38;5;28;01mas\u001b[39;00m \u001b[38;5;21;01mtf\u001b[39;00m\n\u001b[0;32m----> 4\u001b[0m \u001b[38;5;28;01mfrom\u001b[39;00m \u001b[38;5;21;01mStep02UnetModel\u001b[39;00m \u001b[38;5;28;01mimport\u001b[39;00m build_unet\n\u001b[1;32m      5\u001b[0m \u001b[38;5;28;01mfrom\u001b[39;00m \u001b[38;5;21;01mkeras\u001b[39;00m\u001b[38;5;21;01m.\u001b[39;00m\u001b[38;5;21;01mcallbacks\u001b[39;00m \u001b[38;5;28;01mimport\u001b[39;00m ModelCheckpoint, ReduceLROnPlateau, EarlyStopping\n\u001b[1;32m      7\u001b[0m shape \u001b[38;5;241m=\u001b[39m (\u001b[38;5;241m128\u001b[39m,\u001b[38;5;241m128\u001b[39m,\u001b[38;5;241m3\u001b[39m)\n",
      "\u001b[0;31mModuleNotFoundError\u001b[0m: No module named 'Step02UnetModel'"
     ]
    }
   ],
   "source": [
    "# build the model\n",
    "\n",
    "import tensorflow as tf\n",
    "from Step02UnetModel import build_unet\n",
    "from keras.callbacks import ModelCheckpoint, ReduceLROnPlateau, EarlyStopping\n",
    "\n",
    "shape = (128,128,3)\n",
    "num_classes = 3\n",
    "lr = 1e-4 # 0.0001\n",
    "batch_size = 4\n",
    "epochs = 10\n",
    "\n",
    "\n",
    "model = build_unet(shape , num_classes)\n",
    "print(model.summary())\n",
    "\n",
    "model.compile(loss=\"categorical_crossentropy\", optimizer = tf.keras.optimizers.Adam(lr), metrics=['accuracy'])\n",
    "\n",
    "stepsPerEpoch = np.ceil(len(X_train)/batch_size)\n",
    "validationSteps = np.ceil(len(X_val)/batch_size)\n",
    "\n",
    "best_model_file=\"e:/temp/Animals-Unet.h5\"\n",
    "\n",
    "callbacks = [\n",
    "    ModelCheckpoint(best_model_file, verbose=1, save_best_only=True),\n",
    "    ReduceLROnPlateau(monitor=\"val_loss\", patience=3, factor=0.1, verbose=1, min_lr=1e-6),\n",
    "    EarlyStopping(monitor='val_loss',patience=5 , verbose=1)\n",
    "]\n",
    "\n",
    "history = model.fit(X_train, y_train,\n",
    "                    batch_size=batch_size,\n",
    "                    epochs=epochs,\n",
    "                    verbose=1,\n",
    "                    validation_data = (X_val, y_val),\n",
    "                    validation_steps = validationSteps,\n",
    "                    steps_per_epoch = stepsPerEpoch,\n",
    "                    shuffle=True,\n",
    "                    callbacks=callbacks)"
   ]
  }
 ],
 "metadata": {
  "kernelspec": {
   "display_name": "Python 3",
   "language": "python",
   "name": "python3"
  },
  "language_info": {
   "codemirror_mode": {
    "name": "ipython",
    "version": 3
   },
   "file_extension": ".py",
   "mimetype": "text/x-python",
   "name": "python",
   "nbconvert_exporter": "python",
   "pygments_lexer": "ipython3",
   "version": "3.11.4"
  }
 },
 "nbformat": 4,
 "nbformat_minor": 2
}
